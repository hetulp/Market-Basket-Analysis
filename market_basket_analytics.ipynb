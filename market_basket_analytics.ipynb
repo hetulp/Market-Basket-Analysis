{
 "cells": [
  {
   "cell_type": "code",
   "execution_count": 1,
   "metadata": {
    "collapsed": true
   },
   "outputs": [],
   "source": [
    "import requests\n",
    "import pandas as pd\n",
    "import io\n",
    "import operator"
   ]
  },
  {
   "cell_type": "markdown",
   "metadata": {},
   "source": [
    "Downloading training dataset"
   ]
  },
  {
   "cell_type": "code",
   "execution_count": 2,
   "metadata": {
    "collapsed": true
   },
   "outputs": [],
   "source": [
    "url_train = requests.get(\"http://kevincrook.com/utd/market_basket_training.txt\")\n",
    "with io.open('train.csv','wb') as infile:\n",
    "    infile.write(url_train.content)"
   ]
  },
  {
   "cell_type": "markdown",
   "metadata": {},
   "source": [
    "Creating dataframe from training dataset"
   ]
  },
  {
   "cell_type": "code",
   "execution_count": 5,
   "metadata": {},
   "outputs": [],
   "source": [
    "cols = ['f',2,3,4,5]\n",
    "dataframe = pd.read_csv('train.csv', header=None, names = cols).fillna('')\n",
    "train_data = dataframe.groupby([2,3,4,5]).count().reset_index()\n",
    "train_data[6] = ''\n",
    "train_data['set'] =  train_data[[2,3,4,5,6]].values.tolist()"
   ]
  },
  {
   "cell_type": "markdown",
   "metadata": {},
   "source": [
    "Downloading testing dataset"
   ]
  },
  {
   "cell_type": "code",
   "execution_count": 6,
   "metadata": {
    "collapsed": true
   },
   "outputs": [],
   "source": [
    "url_test = requests.get(\"http://kevincrook.com/utd/market_basket_test.txt\")\n",
    "with io.open('test.csv','wb') as infile_test:\n",
    "    infile_test.write(url_test.content)"
   ]
  },
  {
   "cell_type": "markdown",
   "metadata": {},
   "source": [
    "Creating testing dataframe "
   ]
  },
  {
   "cell_type": "code",
   "execution_count": 7,
   "metadata": {
    "collapsed": true
   },
   "outputs": [],
   "source": [
    "test_data = pd.read_csv('test.csv', header=None, names = cols).fillna('')\n",
    "test_data['set'] = test_data[[2,3,4,5]].values.tolist()\n",
    "r_df = test_data.copy()\n",
    "r_df['Recommendation'] = ''"
   ]
  },
  {
   "cell_type": "markdown",
   "metadata": {},
   "source": [
    "Creating recommenation dataset according to frequency of sets"
   ]
  },
  {
   "cell_type": "code",
   "execution_count": 8,
   "metadata": {},
   "outputs": [
    {
     "name": "stderr",
     "output_type": "stream",
     "text": [
      "C:\\Users\\User\\Anaconda3\\lib\\site-packages\\ipykernel_launcher.py:13: SettingWithCopyWarning: \n",
      "A value is trying to be set on a copy of a slice from a DataFrame\n",
      "\n",
      "See the caveats in the documentation: http://pandas.pydata.org/pandas-docs/stable/indexing.html#indexing-view-versus-copy\n",
      "  del sys.path[0]\n",
      "C:\\Users\\User\\Anaconda3\\lib\\site-packages\\ipykernel_launcher.py:30: SettingWithCopyWarning: \n",
      "A value is trying to be set on a copy of a slice from a DataFrame\n",
      "\n",
      "See the caveats in the documentation: http://pandas.pydata.org/pandas-docs/stable/indexing.html#indexing-view-versus-copy\n",
      "C:\\Users\\User\\Anaconda3\\lib\\site-packages\\ipykernel_launcher.py:47: SettingWithCopyWarning: \n",
      "A value is trying to be set on a copy of a slice from a DataFrame\n",
      "\n",
      "See the caveats in the documentation: http://pandas.pydata.org/pandas-docs/stable/indexing.html#indexing-view-versus-copy\n"
     ]
    }
   ],
   "source": [
    "for index_test, row_test in test_data.iterrows():\n",
    "    r_freq = dict() \n",
    "    for index_train, row_train in train_data.iterrows(): \n",
    "        a = len(set(row_test['set'])) + 1\n",
    "        b = len(set(row_train['set']))\n",
    "        if a == b:\n",
    "            if set(row_test['set']).issubset(set(row_train['set'])):\n",
    "                r_freq[tuple(row_train['set'])] =  row_train['f']\n",
    "    sorted_dict = sorted(r_freq.items(), key=operator.itemgetter(1), reverse=True)\n",
    "    if sorted_dict != []:\n",
    "        r_set = set(sorted_dict[0][0])\n",
    "        recommended_item = r_set - set(row_test['set'])\n",
    "        r_df['Recommendation'][index_test] = recommended_item\n",
    "    else:\n",
    "        test_list = list(set(row_test['set']))\n",
    "        n_l = len(test_list)\n",
    "        for i in range(0,n_l):\n",
    "            l = test_list[:]\n",
    "            del l[i]\n",
    "            for index_train, row_train in train_data.iterrows():\n",
    "                n_a = len(set(l)) + 1\n",
    "                n_b = len(set(row_train['set']))\n",
    "                if n_a == n_b:\n",
    "                    if set(l).issubset(set(row_train['set'])):\n",
    "                        r_freq[tuple(row_train['set'])] =  row_train['f']\n",
    "        sorted_dict = sorted(r_freq.items(), key=operator.itemgetter(1), reverse=True)\n",
    "        if sorted_dict != []:\n",
    "            r_set = set(sorted_dict[0][0])\n",
    "            recommended_item = r_set - set(row_test['set'])\n",
    "            r_df['Recommendation'][index_test] = recommended_item\n",
    "        else:\n",
    "            test_list = list(set(row_test['set']))\n",
    "            n_l = len(test_list)\n",
    "            for i in range(0,n_l):\n",
    "                l = test_list[i:i+1]\n",
    "                l.append('')\n",
    "                for index_train, row_train in train_data.iterrows():\n",
    "                    n_a = len(set(l)) + 1\n",
    "                    n_b = len(set(row_train['set']))\n",
    "                    if n_a == n_b:\n",
    "                        if set(l).issubset(set(row_train['set'])):\n",
    "                            r_freq[tuple(row_train['set'])] =  row_train['f']\n",
    "            sorted_dict = sorted(r_freq.items(), key=operator.itemgetter(1), reverse=True)\n",
    "            if sorted_dict != []:\n",
    "                r_set = set(sorted_dict[0][0])\n",
    "                recommended_item = r_set - set(row_test['set'])\n",
    "                r_df['Recommendation'][index_test] = recommended_item\n",
    "            else:\n",
    "                r_df['Recommendation'][index_test] = 'No Recommendation'"
   ]
  },
  {
   "cell_type": "markdown",
   "metadata": {},
   "source": [
    "Saving final dataset to file according to requirement"
   ]
  },
  {
   "cell_type": "code",
   "execution_count": 9,
   "metadata": {},
   "outputs": [
    {
     "name": "stderr",
     "output_type": "stream",
     "text": [
      "C:\\Users\\User\\Anaconda3\\lib\\site-packages\\ipykernel_launcher.py:2: SettingWithCopyWarning: \n",
      "A value is trying to be set on a copy of a slice from a DataFrame.\n",
      "Try using .loc[row_indexer,col_indexer] = value instead\n",
      "\n",
      "See the caveats in the documentation: http://pandas.pydata.org/pandas-docs/stable/indexing.html#indexing-view-versus-copy\n",
      "  \n",
      "C:\\Users\\User\\Anaconda3\\lib\\site-packages\\ipykernel_launcher.py:3: SettingWithCopyWarning: \n",
      "A value is trying to be set on a copy of a slice from a DataFrame.\n",
      "Try using .loc[row_indexer,col_indexer] = value instead\n",
      "\n",
      "See the caveats in the documentation: http://pandas.pydata.org/pandas-docs/stable/indexing.html#indexing-view-versus-copy\n",
      "  This is separate from the ipykernel package so we can avoid doing imports until\n"
     ]
    }
   ],
   "source": [
    "final_df = r_df[['f','Recommendation']]\n",
    "final_df['Recommendation'] = final_df['Recommendation'].apply(lambda x: ''.join(str(e) for e in x))\n",
    "final_df['f'] = final_df['f'].apply(lambda x: str(x).zfill(3))\n",
    "final_df.to_csv(\"market_basket_recommendations.txt\", sep=',', encoding = 'utf-8',index=False,header=False)"
   ]
  }
 ],
 "metadata": {
  "kernelspec": {
   "display_name": "Python 3",
   "language": "python",
   "name": "python3"
  },
  "language_info": {
   "codemirror_mode": {
    "name": "ipython",
    "version": 3
   },
   "file_extension": ".py",
   "mimetype": "text/x-python",
   "name": "python",
   "nbconvert_exporter": "python",
   "pygments_lexer": "ipython3",
   "version": "3.6.3"
  }
 },
 "nbformat": 4,
 "nbformat_minor": 2
}
